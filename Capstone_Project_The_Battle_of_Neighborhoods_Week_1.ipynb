{
 "cells": [
  {
   "cell_type": "markdown",
   "metadata": {},
   "source": [
    "# The Battle of Neighborhoods Week 1\n",
    "\n",
    "1. A description of the problem and a discussion of the background\n",
    "2. A description of the data and how it will be used to solve the problem\n",
    "\n",
    "(1) I decided to use New York as the city of my final assignment as New York city is the financial capital of the America and also the global financial hub of business and commerce for example New York Stock Exchange. New York is a very well-diversified commerce environment, it consists of major services and business like banking, financing, tourism, retailing, world trade and logistics and so on. This makes New York to become a very competitive market in term of building up our own business and selecting a right location as the question requested to open a restaurant. \n",
    "\n",
    "(2) I will use a few data to analysis where is the best place for the restaurant to open in New York \n",
    "    1. First, I will download the json data file and read it into DataFrame by using panadas\n",
    "    2. Then I will filter the data and clear unnecessarily data to make it simple for me and the viewer to view my code\n",
    "    3. I will use FourSquare Api to find the location of each borough include Manhattan, Bronx, Queens, Brooklyn and Staten Island \n",
    "    4. I will use the population data and start clustering by which city and town is high frequency of what type of \n"
   ]
  },
  {
   "cell_type": "code",
   "execution_count": null,
   "metadata": {},
   "outputs": [],
   "source": []
  }
 ],
 "metadata": {
  "kernelspec": {
   "display_name": "Python 3",
   "language": "python",
   "name": "python3"
  },
  "language_info": {
   "codemirror_mode": {
    "name": "ipython",
    "version": 3
   },
   "file_extension": ".py",
   "mimetype": "text/x-python",
   "name": "python",
   "nbconvert_exporter": "python",
   "pygments_lexer": "ipython3",
   "version": "3.7.6"
  }
 },
 "nbformat": 4,
 "nbformat_minor": 4
}
